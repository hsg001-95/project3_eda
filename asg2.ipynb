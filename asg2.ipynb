{
 "cells": [
  {
   "cell_type": "code",
   "execution_count": 5,
   "id": "80a698e5",
   "metadata": {},
   "outputs": [],
   "source": [
    "import numpy as np"
   ]
  },
  {
   "cell_type": "code",
   "execution_count": 6,
   "id": "4c5ed126",
   "metadata": {},
   "outputs": [],
   "source": [
    "def solve_q1_marbles():\n",
    "    print(\"--- Q.1: Conditional Probability (Marbles) ---\")\n",
    "\n",
    "    red_marbles = np.array([5])\n",
    "    blue_marbles = np.array([7])\n",
    "    total_marbles = red_marbles + blue_marbles\n",
    "\n",
    "    blue_marbles_after_draw_1 = blue_marbles - 1\n",
    "    total_marbles_after_draw_1 = total_marbles - 1\n",
    "\n",
    "    red_marbles_after_draw_1 = red_marbles\n",
    "\n",
    "    p_r2_given_b1 = red_marbles_after_draw_1 / total_marbles_after_draw_1\n",
    "\n",
    "    print(f\"Red marbles remaining: {red_marbles_after_draw_1[0]}\")\n",
    "    print(f\"Total marbles remaining: {total_marbles_after_draw_1[0]}\")\n",
    "    print(f\"Probability P(R2 | B1) = {p_r2_given_b1[0]:.4f}\")\n",
    "    return p_r2_given_b1[0]"
   ]
  },
  {
   "cell_type": "code",
   "execution_count": 7,
   "id": "54440a98",
   "metadata": {},
   "outputs": [],
   "source": [
    "def solve_bayes_theorem(prior_disease_prob):\n",
    "    P_T_given_D = np.array([0.95])\n",
    "    P_T_given_notD = np.array([0.02])\n",
    "    \n",
    "    P_D = np.array([prior_disease_prob])\n",
    "    P_notD = 1 - P_D\n",
    "\n",
    "    p_t = (P_T_given_D * P_D) + (P_T_given_notD * P_notD)\n",
    "\n",
    "    p_d_given_t = (P_T_given_D * P_D) / p_t\n",
    "\n",
    "    return p_d_given_t[0]"
   ]
  },
  {
   "cell_type": "code",
   "execution_count": 8,
   "id": "1980b788",
   "metadata": {},
   "outputs": [],
   "source": [
    "def solve_q2_bayes_initial():\n",
    "    print(\"\\n--- Q.2: Bayes' Theorem (Population Prior) ---\")\n",
    "    \n",
    "    prior_prob = 0.01\n",
    "    \n",
    "    p_d_given_t = solve_bayes_theorem(prior_prob)\n",
    "    \n",
    "    print(f\"Population Prior P(D) = {prior_prob}\")\n",
    "    print(f\"Revised Probability P(D | T) = {p_d_given_t:.4f}\")\n",
    "    return p_d_given_t"
   ]
  },
  {
   "cell_type": "code",
   "execution_count": 9,
   "id": "79a61f69",
   "metadata": {},
   "outputs": [],
   "source": [
    "def solve_q3_bayes_revised():\n",
    "    print(\"\\n--- Q.3: Revised Bayes' Theorem (Doctor's Prior) ---\")\n",
    "    \n",
    "    prior_prob = 0.30\n",
    "    \n",
    "    p_d_given_t = solve_bayes_theorem(prior_prob)\n",
    "    \n",
    "    print(f\"Doctor's Prior P(D) = {prior_prob}\")\n",
    "    print(f\"Revised Probability P(D | T) = {p_d_given_t:.4f}\")\n",
    "    return p_d_given_t"
   ]
  },
  {
   "cell_type": "code",
   "execution_count": 10,
   "id": "18b4d3f5",
   "metadata": {},
   "outputs": [],
   "source": [
    "def solve_q4_q5_venn_diagram():\n",
    "    print(\"\\n--- Q.4 & Q.5: Set Probability (Venn Diagram) ---\")\n",
    "\n",
    "    total_students = np.array([50])\n",
    "    students_physics = np.array([30])\n",
    "    students_chemistry = np.array([25])\n",
    "    students_both = np.array([15])\n",
    "\n",
    "    students_only_physics = students_physics - students_both\n",
    "\n",
    "    p_only_physics = students_only_physics / total_students\n",
    "\n",
    "    print(f\"Total Students: {total_students[0]}\")\n",
    "    print(f\"Students studying only Physics: {students_only_physics[0]}\")\n",
    "    print(f\"Probability P(Only Physics) = {p_only_physics[0]:.4f}\")\n",
    "    return p_only_physics[0]"
   ]
  },
  {
   "cell_type": "code",
   "execution_count": 11,
   "id": "61b96055",
   "metadata": {},
   "outputs": [
    {
     "name": "stdout",
     "output_type": "stream",
     "text": [
      "--- Q.1: Conditional Probability (Marbles) ---\n",
      "Red marbles remaining: 5\n",
      "Total marbles remaining: 11\n",
      "Probability P(R2 | B1) = 0.4545\n",
      "\n",
      "--- Q.2: Bayes' Theorem (Population Prior) ---\n",
      "Population Prior P(D) = 0.01\n",
      "Revised Probability P(D | T) = 0.3242\n",
      "\n",
      "--- Q.3: Revised Bayes' Theorem (Doctor's Prior) ---\n",
      "Doctor's Prior P(D) = 0.3\n",
      "Revised Probability P(D | T) = 0.9532\n",
      "\n",
      "--- Q.4 & Q.5: Set Probability (Venn Diagram) ---\n",
      "Total Students: 50\n",
      "Students studying only Physics: 15\n",
      "Probability P(Only Physics) = 0.3000\n"
     ]
    }
   ],
   "source": [
    "\n",
    "if __name__ == \"__main__\":\n",
    "    solve_q1_marbles()\n",
    "    solve_q2_bayes_initial()\n",
    "    solve_q3_bayes_revised()\n",
    "    solve_q4_q5_venn_diagram()"
   ]
  },
  {
   "cell_type": "code",
   "execution_count": null,
   "id": "34838806",
   "metadata": {},
   "outputs": [],
   "source": []
  }
 ],
 "metadata": {
  "kernelspec": {
   "display_name": "base",
   "language": "python",
   "name": "python3"
  },
  "language_info": {
   "codemirror_mode": {
    "name": "ipython",
    "version": 3
   },
   "file_extension": ".py",
   "mimetype": "text/x-python",
   "name": "python",
   "nbconvert_exporter": "python",
   "pygments_lexer": "ipython3",
   "version": "3.13.5"
  }
 },
 "nbformat": 4,
 "nbformat_minor": 5
}
