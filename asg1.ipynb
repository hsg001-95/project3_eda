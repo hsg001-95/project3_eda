{
 "cells": [
  {
   "cell_type": "code",
   "execution_count": 1,
   "id": "ae9026e4",
   "metadata": {},
   "outputs": [],
   "source": [
    "import numpy as np\n",
    "from collections import Counter"
   ]
  },
  {
   "cell_type": "code",
   "execution_count": 2,
   "id": "d6d60fa2",
   "metadata": {},
   "outputs": [
    {
     "name": "stdout",
     "output_type": "stream",
     "text": [
      "--- Q1: Bike Prices Analysis ---\n"
     ]
    }
   ],
   "source": [
    "print(\"--- Q1: Bike Prices Analysis ---\")\n",
    "bike_prices = np.array([12000, 15000, 18000, 20000, 50000])"
   ]
  },
  {
   "cell_type": "code",
   "execution_count": 3,
   "id": "15f95ac1",
   "metadata": {},
   "outputs": [
    {
     "name": "stdout",
     "output_type": "stream",
     "text": [
      "(a) Mean price of a bike: ₹23,000.00\n"
     ]
    }
   ],
   "source": [
    "# (a) Calculate the Mean Price\n",
    "mean_price = np.mean(bike_prices)\n",
    "print(f\"(a) Mean price of a bike: ₹{mean_price:,.2f}\")"
   ]
  },
  {
   "cell_type": "code",
   "execution_count": 4,
   "id": "8b852fc4",
   "metadata": {},
   "outputs": [
    {
     "name": "stdout",
     "output_type": "stream",
     "text": [
      "(b) Median price of a bike: ₹18,000.00\n"
     ]
    }
   ],
   "source": [
    "# (b) Calculate the Median Price\n",
    "median_price = np.median(bike_prices)\n",
    "print(f\"(b) Median price of a bike: ₹{median_price:,.2f}\")"
   ]
  },
  {
   "cell_type": "code",
   "execution_count": 5,
   "id": "66d58b71",
   "metadata": {},
   "outputs": [
    {
     "name": "stdout",
     "output_type": "stream",
     "text": [
      "--- Q3: Exam Scores Analysis ---\n",
      "Raw Data: [85 92 78 90 85 67 88 95 85 72]\n",
      "Sorted Data: [67 72 78 85 85 85 88 90 92 95]\n"
     ]
    }
   ],
   "source": [
    "print(\"--- Q3: Exam Scores Analysis ---\")\n",
    "exam_scores = np.array([85, 92, 78, 90, 85, 67, 88, 95, 85, 72])\n",
    "print(f\"Raw Data: {exam_scores}\")\n",
    "print(f\"Sorted Data: {np.sort(exam_scores)}\")\n"
   ]
  },
  {
   "cell_type": "code",
   "execution_count": 7,
   "id": "0c58f02e",
   "metadata": {},
   "outputs": [
    {
     "name": "stdout",
     "output_type": "stream",
     "text": [
      "\n",
      "(a) Mean: 83.70\n",
      "    Median: 85.00\n",
      "    Mode: 85\n"
     ]
    }
   ],
   "source": [
    "# (a) Calculate Mean, Median, and Mode\n",
    "q3_mean = np.mean(exam_scores)\n",
    "q3_median = np.median(exam_scores)\n",
    "q3_mode = Counter(exam_scores).most_common(1)[0][0]\n",
    "print(f\"\\n(a) Mean: {q3_mean:.2f}\")\n",
    "print(f\"    Median: {q3_median:.2f}\")\n",
    "print(f\"    Mode: {q3_mode}\")"
   ]
  },
  {
   "cell_type": "code",
   "execution_count": 8,
   "id": "f5dce6fb",
   "metadata": {},
   "outputs": [
    {
     "name": "stdout",
     "output_type": "stream",
     "text": [
      "\n",
      "(b) Distribution Shape:\n",
      "The distribution is SKEWED LEFT because Mean (83.70) < Median (85.00).\n"
     ]
    }
   ],
   "source": [
    "# (b) Describe Distribution Shape\n",
    "print(\"\\n(b) Distribution Shape:\")\n",
    "print(f\"The distribution is SKEWED LEFT because Mean ({q3_mean:.2f}) < Median ({q3_median:.2f}).\")\n"
   ]
  },
  {
   "cell_type": "code",
   "execution_count": 9,
   "id": "78902773",
   "metadata": {},
   "outputs": [
    {
     "name": "stdout",
     "output_type": "stream",
     "text": [
      "\n",
      "(c) Five-Number Summary:\n",
      "    Minimum: 67\n",
      "    Q1 (25th Percentile): 79.75\n",
      "    Median: 85.00\n",
      "    Q3 (75th Percentile): 89.50\n",
      "    Maximum: 95\n"
     ]
    }
   ],
   "source": [
    "# (c) Find the Five-Number Summary\n",
    "q3_min = np.min(exam_scores)\n",
    "q3_q1 = np.percentile(exam_scores, 25)\n",
    "q3_q3 = np.percentile(exam_scores, 75)\n",
    "q3_max = np.max(exam_scores)\n",
    "\n",
    "print(\"\\n(c) Five-Number Summary:\")\n",
    "print(f\"    Minimum: {q3_min}\")\n",
    "print(f\"    Q1 (25th Percentile): {q3_q1:.2f}\")\n",
    "print(f\"    Median: {q3_median:.2f}\")\n",
    "print(f\"    Q3 (75th Percentile): {q3_q3:.2f}\")\n",
    "print(f\"    Maximum: {q3_max}\")"
   ]
  },
  {
   "cell_type": "code",
   "execution_count": 10,
   "id": "00024faf",
   "metadata": {},
   "outputs": [
    {
     "name": "stdout",
     "output_type": "stream",
     "text": [
      "--- Q5: Employee Salaries Analysis ---\n",
      "(a) Mean salary: $92,000.00\n",
      "    Median salary: $55,000.00\n",
      "\n",
      "(b) Advertising Preference:\n",
      "Company Preference: Use the MEAN salary ($92,000.00) as it is inflated by the outlier and makes the company seem more generous.\n",
      "Employee Preference: Prefer the MEDIAN salary ($55,000.00) as it represents the typical compensation received by most employees.\n"
     ]
    }
   ],
   "source": [
    "print(\"--- Q5: Employee Salaries Analysis ---\")\n",
    "salaries = np.array([45000, 50000, 55000, 60000, 250000])\n",
    "\n",
    "# (a) Calculate the Mean and Median Salary\n",
    "q5_mean = np.mean(salaries)\n",
    "q5_median = np.median(salaries)\n",
    "\n",
    "print(f\"(a) Mean salary: ${q5_mean:,.2f}\")\n",
    "print(f\"    Median salary: ${q5_median:,.2f}\")\n",
    "\n",
    "# (b) Advertising Preference (Conceptual Answer)\n",
    "print(\"\\n(b) Advertising Preference:\")\n",
    "print(f\"Company Preference: Use the MEAN salary (${q5_mean:,.2f}) as it is inflated by the outlier and makes the company seem more generous.\")\n",
    "print(f\"Employee Preference: Prefer the MEDIAN salary (${q5_median:,.2f}) as it represents the typical compensation received by most employees.\")\n"
   ]
  },
  {
   "cell_type": "code",
   "execution_count": null,
   "id": "d9353962",
   "metadata": {},
   "outputs": [],
   "source": []
  }
 ],
 "metadata": {
  "kernelspec": {
   "display_name": "base",
   "language": "python",
   "name": "python3"
  },
  "language_info": {
   "codemirror_mode": {
    "name": "ipython",
    "version": 3
   },
   "file_extension": ".py",
   "mimetype": "text/x-python",
   "name": "python",
   "nbconvert_exporter": "python",
   "pygments_lexer": "ipython3",
   "version": "3.13.5"
  }
 },
 "nbformat": 4,
 "nbformat_minor": 5
}
